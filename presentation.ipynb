{
 "cells": [
  {
   "cell_type": "markdown",
   "metadata": {},
   "source": [
    "# Machine learning\n",
    "\n",
    "**Learn from data**\n",
    "\n",
    "- Supervised: Requires labels. Example: annotaing images of cats.\n",
    "\n",
    "- Unsupervised: No labels. \n",
    "\n",
    "**Motivation**: ChatGPT 3.5 is mostly unsupervised learning.\n",
    "\n",
    "**Remark**: Topological data analysis (TDA) is unsupervised learning. "
   ]
  },
  {
   "cell_type": "markdown",
   "metadata": {},
   "source": [
    "## Two different datasets\n",
    "\n",
    "Why do you, intuitively, think that these datasets are different?"
   ]
  },
  {
   "cell_type": "code",
   "execution_count": null,
   "metadata": {},
   "outputs": [],
   "source": [
    "import matplotlib.pyplot as plt\n",
    "\n",
    "from src.data import generate_circle_data, generate_disk_data\n",
    "\n",
    "circle_xs, circle_ys = generate_circle_data(100, 10, 0, 10)\n",
    "disk_xs, disk_ys = generate_disk_data(200, 12, 40, 10)\n",
    "\n",
    "\n",
    "# Plot the data\n",
    "plt.scatter(circle_xs, circle_ys, color=\"green\")\n",
    "plt.scatter(disk_xs, disk_ys, color=\"red\")\n"
   ]
  },
  {
   "cell_type": "markdown",
   "metadata": {},
   "source": [
    "## Building a geometrical object from raw data\n",
    "\n",
    "![structure](./docs/structure_from_data.svg)"
   ]
  },
  {
   "cell_type": "markdown",
   "metadata": {},
   "source": [
    "# Calculate the shape\n",
    "\n",
    "![homology](./docs/homology.svg)"
   ]
  },
  {
   "cell_type": "markdown",
   "metadata": {},
   "source": [
    "## Combined: Persistent homology\n",
    "\n",
    "**Calculate the qualitative shape for many different radiuses!**\n",
    "\n",
    "Let us revisit teh circle and disk data..."
   ]
  },
  {
   "cell_type": "markdown",
   "metadata": {},
   "source": [
    "## Circle data revisited"
   ]
  },
  {
   "cell_type": "code",
   "execution_count": null,
   "metadata": {},
   "outputs": [],
   "source": [
    "from ripser import Rips\n",
    "\n",
    "from src.data import generate_circle_data\n",
    "from src.logic import arrays_to_matrix\n",
    "\n",
    "circle_xs, circle_ys = generate_circle_data(100, 10, 0, 10)\n",
    "\n",
    "circle_data = arrays_to_matrix(circle_xs, circle_ys)\n",
    "\n",
    "plt.scatter(circle_xs, circle_ys, color=\"green\")\n",
    "plt.show()\n",
    "\n",
    "model = Rips()\n",
    "model.fit_transform(circle_data)\n",
    "model.plot()\n"
   ]
  },
  {
   "cell_type": "markdown",
   "metadata": {},
   "source": [
    "## Disk data revisited"
   ]
  },
  {
   "cell_type": "code",
   "execution_count": null,
   "metadata": {},
   "outputs": [],
   "source": [
    "import matplotlib.pyplot as plt\n",
    "from ripser import Rips\n",
    "\n",
    "from src.data import generate_disk_data\n",
    "from src.logic import arrays_to_matrix\n",
    "\n",
    "disk_xs, disk_ys = generate_disk_data(200, 12, 40, 10)\n",
    "\n",
    "disk_data = arrays_to_matrix(disk_xs, disk_ys)\n",
    "\n",
    "plt.scatter(disk_xs, disk_ys, color=\"red\")\n",
    "plt.show()\n",
    "\n",
    "\n",
    "model = Rips()\n",
    "model.fit_transform(disk_data)\n",
    "model.plot()\n"
   ]
  },
  {
   "cell_type": "markdown",
   "metadata": {},
   "source": [
    "# Data has shape!"
   ]
  },
  {
   "cell_type": "markdown",
   "metadata": {},
   "source": [
    "## Example: Neuroscience\n",
    "\n",
    "- Grid cells: Neurons that fire according to movement in space. **Spatial awareness**.\n",
    "- The shape of grid cell activity: https://www.nature.com/articles/s41586-021-04268-7\n"
   ]
  },
  {
   "cell_type": "markdown",
   "metadata": {},
   "source": [
    "## Example: Cancer therapy\n",
    "\n",
    "- Proteins are complex.\n",
    "- Protein interacts, resulting very complex networks!\n",
    "- The shape of protein data guiding cancer therapy: https://link.springer.com/article/10.1186/s13062-015-0058-5"
   ]
  },
  {
   "cell_type": "markdown",
   "metadata": {},
   "source": [
    "# Time series\n",
    "\n",
    "Record data over time.\n",
    "\n",
    "Typical example: \n",
    "- **Stock prices**\n",
    "- **Sensor data**"
   ]
  },
  {
   "cell_type": "markdown",
   "metadata": {},
   "source": [
    "## Example: time series where oscillation decays"
   ]
  },
  {
   "cell_type": "code",
   "execution_count": null,
   "metadata": {},
   "outputs": [],
   "source": [
    "import matplotlib.pyplot as plt\n",
    "\n",
    "from src.data import get_time_series_with_oscillation_and_decay\n",
    "\n",
    "\n",
    "time_series = get_time_series_with_oscillation_and_decay()\n",
    "\n",
    "plt.plot(time_series, color=\"purple\")\n",
    "plt.show()\n"
   ]
  },
  {
   "cell_type": "markdown",
   "metadata": {},
   "source": [
    "## Extract higher dimensional data from time series"
   ]
  },
  {
   "cell_type": "code",
   "execution_count": null,
   "metadata": {
    "scrolled": true
   },
   "outputs": [],
   "source": [
    "\n",
    "import matplotlib.pyplot as plt\n",
    "from ipywidgets import interactive, fixed\n",
    "\n",
    "from src.data import get_time_series_with_oscillation_and_decay\n",
    "from src.logic import time_delay_embedding\n",
    "\n",
    "time_series = get_time_series_with_oscillation_and_decay()\n",
    "\n",
    "def interactive_time_delay_embedding(start: int = 0, size: int = 100):\n",
    "    embedding = time_delay_embedding(time_series[start:start + size], 3)\n",
    "    plt.scatter(embedding[0], embedding[1], color=\"green\")\n",
    "    plt.show()\n",
    "\n",
    "w = interactive(\n",
    "    interactive_time_delay_embedding,\n",
    "    start=(0, 900),\n",
    "    size=fixed(100)\n",
    ")\n",
    "\n",
    "plt.plot(time_series, color=\"purple\")\n",
    "plt.show()\n",
    "\n",
    "w\n",
    "\n"
   ]
  },
  {
   "cell_type": "markdown",
   "metadata": {},
   "source": [
    "## Apply persistent homology..."
   ]
  },
  {
   "cell_type": "code",
   "execution_count": null,
   "metadata": {},
   "outputs": [],
   "source": [
    "import matplotlib.pyplot as plt\n",
    "from ipywidgets import interactive, fixed\n",
    "\n",
    "from ripser import Rips\n",
    "\n",
    "from src.data import get_time_series_with_oscillation_and_decay\n",
    "from src.logic import arrays_to_matrix, time_delay_embedding\n",
    "\n",
    "time_series = get_time_series_with_oscillation_and_decay()\n",
    "\n",
    "def interactive_time_series_barcode(start: int = 0, size: int = 100):\n",
    "    embedding = time_delay_embedding(time_series[start:start + size], 3)\n",
    "    data = arrays_to_matrix(embedding[0], embedding[1])\n",
    "    model = Rips()\n",
    "    model.fit_transform(data)\n",
    "    model.plot(xy_range = [-1, 9, 0, 12])\n",
    "\n",
    "w = interactive(\n",
    "    interactive_time_series_barcode,\n",
    "    start=(0, 900),\n",
    "    size=fixed(100)\n",
    ")\n",
    "\n",
    "plt.plot(time_series, color=\"purple\")\n",
    "plt.show()\n",
    "\n",
    "w"
   ]
  },
  {
   "cell_type": "markdown",
   "metadata": {},
   "source": [
    "**observation** We can see that the oscillation dies out because the circle disappears."
   ]
  },
  {
   "cell_type": "markdown",
   "metadata": {},
   "source": [
    "## Example: Financial time series\n",
    "\n",
    "- Indicating financial crashes: https://www.sciencedirect.com/science/article/abs/pii/S0378437117309202\n"
   ]
  },
  {
   "cell_type": "markdown",
   "metadata": {},
   "source": [
    "## Final Remarks:\n",
    "\n",
    "- TDA is a relatively new field\n",
    "- There is a lot of ongoing research on how to incorporate TDA in ML\n",
    "  - Keywords: Preprocessing, feature engineering, dimensionality reduction"
   ]
  }
 ],
 "metadata": {
  "kernelspec": {
   "display_name": "Python 3 (ipykernel)",
   "language": "python",
   "name": "python3"
  },
  "language_info": {
   "codemirror_mode": {
    "name": "ipython",
    "version": 3
   },
   "file_extension": ".py",
   "mimetype": "text/x-python",
   "name": "python",
   "nbconvert_exporter": "python",
   "pygments_lexer": "ipython3",
   "version": "3.12.2"
  }
 },
 "nbformat": 4,
 "nbformat_minor": 4
}
