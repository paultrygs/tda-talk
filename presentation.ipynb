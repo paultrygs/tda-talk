{
 "cells": [
  {
   "cell_type": "markdown",
   "metadata": {},
   "source": [
    "Application examples:\n",
    "- Neuroscience (https://www.nature.com/articles/s41586-021-04268-7)\n",
    "- Financial crash (https://www.sciencedirect.com/science/article/abs/pii/S0378437117309202)\n",
    "- Cancer threatment (https://link.springer.com/article/10.1186/s13062-015-0058-5)"
   ]
  },
  {
   "cell_type": "code",
   "execution_count": null,
   "metadata": {},
   "outputs": [],
   "source": [
    "import matplotlib.pyplot as plt\n",
    "\n",
    "from src.data import generate_circle_data, generate_disk_data\n",
    "\n",
    "circle_xs, circle_ys = generate_circle_data(100, 10, 0, 10)\n",
    "disk_xs, disk_ys = generate_disk_data(200, 12, 40, 10)\n",
    "\n",
    "\n",
    "# Plot the data\n",
    "plt.scatter(circle_xs, circle_ys, color=\"green\")\n",
    "plt.scatter(disk_xs, disk_ys, color=\"orange\")\n"
   ]
  },
  {
   "cell_type": "code",
   "execution_count": null,
   "metadata": {},
   "outputs": [],
   "source": [
    "import matplotlib.pyplot as plt\n",
    "\n",
    "from src.data import get_time_series_with_oscillation_and_decay\n",
    "\n",
    "\n",
    "time_series = get_time_series_with_oscillation_and_decay()\n",
    "\n",
    "plt.plot(time_series)\n",
    "plt.show()\n"
   ]
  },
  {
   "cell_type": "code",
   "execution_count": null,
   "metadata": {},
   "outputs": [],
   "source": [
    "\n",
    "import matplotlib.pyplot as plt\n",
    "from ipywidgets import interactive, fixed\n",
    "\n",
    "from src.data import get_time_series_with_oscillation_and_decay\n",
    "from src.logic import time_delay_embedding\n",
    "\n",
    "time_series = get_time_series_with_oscillation_and_decay()\n",
    "\n",
    "def interactive_time_delay_embedding(start: int = 0, size: int = 100):\n",
    "    embedding = time_delay_embedding(time_series[start:start + size], 3)\n",
    "    plt.scatter(embedding[0], embedding[1])\n",
    "    plt.show()\n",
    "\n",
    "w = interactive(\n",
    "    interactive_time_delay_embedding,\n",
    "    start=(0, 900),\n",
    "    size=fixed(100)\n",
    ")\n",
    "\n",
    "w\n",
    "\n"
   ]
  }
 ],
 "metadata": {
  "kernelspec": {
   "display_name": ".venv",
   "language": "python",
   "name": "python3"
  },
  "language_info": {
   "codemirror_mode": {
    "name": "ipython",
    "version": 3
   },
   "file_extension": ".py",
   "mimetype": "text/x-python",
   "name": "python",
   "nbconvert_exporter": "python",
   "pygments_lexer": "ipython3",
   "version": "3.12.1"
  }
 },
 "nbformat": 4,
 "nbformat_minor": 2
}
