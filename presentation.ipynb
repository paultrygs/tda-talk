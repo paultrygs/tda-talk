{
 "cells": [
  {
   "cell_type": "code",
   "execution_count": null,
   "metadata": {},
   "outputs": [],
   "source": [
    "import numpy as np\n",
    "import matplotlib.pyplot as plt\n",
    "\n",
    "# Define circle parameters\n",
    "r = 10\n",
    "x0 = 10\n",
    "y0 = 10\n",
    "\n",
    "# Generate random noise\n",
    "n = 100\n",
    "noise = np.random.normal(0, 1, n)\n",
    "\n",
    "# Generate data points\n",
    "theta = np.linspace(0, 2*np.pi, n)\n",
    "x = x0 + r*np.cos(theta) + noise\n",
    "y = y0 + r*np.sin(theta) + noise\n",
    "\n",
    "# Plot the data\n",
    "plt.scatter(x, y, color=\"green\")"
   ]
  },
  {
   "cell_type": "code",
   "execution_count": null,
   "metadata": {},
   "outputs": [],
   "source": [
    "import numpy as np\n",
    "import matplotlib.pyplot as plt\n",
    "\n",
    "\n",
    "def generate_circle_data(n: int, r: float, x0: float, y0: float) -> tuple[np.ndarray, np.ndarray]:\n",
    "    # Generate random noise\n",
    "    n = 100\n",
    "    noise = np.random.normal(0, 1, n)\n",
    "\n",
    "    # Generate angles\n",
    "    theta = np.linspace(0, 2*np.pi, n)\n",
    "\n",
    "    return  x0 + r*np.cos(theta) + noise, y0 + r*np.sin(theta) + noise\n",
    "\n",
    "def generate_disk_data(n: int, r: float, x0: float, y0: float) -> tuple[np.ndarray, np.ndarray]:\n",
    "    # Generate radiuses and angles\n",
    "    radius = np.random.uniform(0, r, n)\n",
    "    theta = np.linspace(0, 2*np.pi, n)\n",
    "    return x0 + radius*np.cos(theta), y0 + radius*np.sin(theta)\n",
    "\n",
    "\n",
    "circle_xs, circle_ys = generate_circle_data(100, 10, 10, 10)\n",
    "disk_xs, disk_ys = generate_disk_data(100, 10, 10, 10)\n",
    "\n",
    "\n",
    "# Plot the data\n",
    "plt.scatter(circle_xs, circle_ys, color=\"green\")\n",
    "plt.scatter(disk_xs, disk_ys, color=\"orange\")\n"
   ]
  }
 ],
 "metadata": {
  "kernelspec": {
   "display_name": ".venv",
   "language": "python",
   "name": "python3"
  },
  "language_info": {
   "codemirror_mode": {
    "name": "ipython",
    "version": 3
   },
   "file_extension": ".py",
   "mimetype": "text/x-python",
   "name": "python",
   "nbconvert_exporter": "python",
   "pygments_lexer": "ipython3",
   "version": "3.12.1"
  }
 },
 "nbformat": 4,
 "nbformat_minor": 2
}
