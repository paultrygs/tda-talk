{
 "cells": [
  {
   "cell_type": "markdown",
   "metadata": {},
   "source": [
    "Application examples:\n",
    "- Neuroscience (https://www.nature.com/articles/s41586-021-04268-7)\n",
    "- Financial crash (https://www.sciencedirect.com/science/article/abs/pii/S0378437117309202)\n",
    "- Cancer threatment (https://link.springer.com/article/10.1186/s13062-015-0058-5)"
   ]
  },
  {
   "cell_type": "code",
   "execution_count": null,
   "metadata": {},
   "outputs": [],
   "source": [
    "import matplotlib.pyplot as plt\n",
    "\n",
    "from src.data import generate_circle_data, generate_disk_data\n",
    "\n",
    "circle_xs, circle_ys = generate_circle_data(100, 10, 0, 10)\n",
    "disk_xs, disk_ys = generate_disk_data(200, 12, 40, 10)\n",
    "\n",
    "\n",
    "# Plot the data\n",
    "plt.scatter(circle_xs, circle_ys, color=\"green\")\n",
    "plt.scatter(disk_xs, disk_ys, color=\"red\")\n"
   ]
  },
  {
   "cell_type": "markdown",
   "metadata": {},
   "source": [
    "## Building a geometrical object from data\n",
    "\n",
    "![structure](./docs/structure_from_data.svg)"
   ]
  },
  {
   "cell_type": "markdown",
   "metadata": {},
   "source": [
    "# Calculate the shape\n",
    "\n",
    "![homology](./docs/homology.svg)"
   ]
  },
  {
   "cell_type": "markdown",
   "metadata": {},
   "source": [
    "## Combined\n",
    "\n",
    "**Calculate the qualitative shape for many different radiuses!**\n",
    "\n",
    "![Barcode](./docs/barcode.jpg)"
   ]
  },
  {
   "cell_type": "code",
   "execution_count": null,
   "metadata": {},
   "outputs": [],
   "source": [
    "from ripser import Rips\n",
    "\n",
    "from src.data import generate_circle_data\n",
    "from src.logic import arrays_to_matrix\n",
    "\n",
    "circle_xs, circle_ys = generate_circle_data(100, 10, 0, 10)\n",
    "\n",
    "circle_data = arrays_to_matrix(circle_xs, circle_ys)\n",
    "\n",
    "plt.scatter(circle_xs, circle_ys, color=\"green\")\n",
    "plt.show()\n",
    "\n",
    "model = Rips()\n",
    "model.fit_transform(circle_data)\n",
    "model.plot()\n"
   ]
  },
  {
   "cell_type": "code",
   "execution_count": null,
   "metadata": {},
   "outputs": [],
   "source": [
    "import matplotlib.pyplot as plt\n",
    "from ripser import Rips\n",
    "\n",
    "from src.data import generate_disk_data\n",
    "from src.logic import arrays_to_matrix\n",
    "\n",
    "disk_xs, disk_ys = generate_disk_data(200, 12, 40, 10)\n",
    "\n",
    "disk_data = arrays_to_matrix(disk_xs, disk_ys)\n",
    "\n",
    "plt.scatter(disk_xs, disk_ys, color=\"red\")\n",
    "plt.show()\n",
    "\n",
    "\n",
    "model = Rips()\n",
    "model.fit_transform(disk_data)\n",
    "model.plot()\n"
   ]
  },
  {
   "cell_type": "code",
   "execution_count": null,
   "metadata": {},
   "outputs": [],
   "source": [
    "import matplotlib.pyplot as plt\n",
    "\n",
    "from src.data import get_time_series_with_oscillation_and_decay\n",
    "\n",
    "\n",
    "time_series = get_time_series_with_oscillation_and_decay()\n",
    "\n",
    "plt.plot(time_series, color=\"purple\")\n",
    "plt.show()\n"
   ]
  },
  {
   "cell_type": "code",
   "execution_count": null,
   "metadata": {},
   "outputs": [],
   "source": [
    "\n",
    "import matplotlib.pyplot as plt\n",
    "from ipywidgets import interactive, fixed\n",
    "\n",
    "from src.data import get_time_series_with_oscillation_and_decay\n",
    "from src.logic import time_delay_embedding\n",
    "\n",
    "time_series = get_time_series_with_oscillation_and_decay()\n",
    "\n",
    "def interactive_time_delay_embedding(start: int = 0, size: int = 100):\n",
    "    embedding = time_delay_embedding(time_series[start:start + size], 3)\n",
    "    plt.scatter(embedding[0], embedding[1], color=\"green\")\n",
    "    plt.show()\n",
    "\n",
    "w = interactive(\n",
    "    interactive_time_delay_embedding,\n",
    "    start=(0, 900),\n",
    "    size=fixed(100)\n",
    ")\n",
    "\n",
    "plt.plot(time_series, color=\"purple\")\n",
    "plt.show()\n",
    "\n",
    "w\n",
    "\n"
   ]
  },
  {
   "cell_type": "code",
   "execution_count": null,
   "metadata": {},
   "outputs": [],
   "source": [
    "import matplotlib.pyplot as plt\n",
    "from ipywidgets import interactive, fixed\n",
    "\n",
    "from ripser import Rips\n",
    "\n",
    "from src.data import get_time_series_with_oscillation_and_decay\n",
    "from src.logic import arrays_to_matrix, time_delay_embedding\n",
    "\n",
    "time_series = get_time_series_with_oscillation_and_decay()\n",
    "\n",
    "def interactive_time_series_barcode(start: int = 0, size: int = 100):\n",
    "    embedding = time_delay_embedding(time_series[start:start + size], 3)\n",
    "    data = arrays_to_matrix(embedding[0], embedding[1])\n",
    "    model = Rips()\n",
    "    model.fit_transform(data)\n",
    "    model.plot(xy_range = [-1, 9, 0, 12])\n",
    "\n",
    "w = interactive(\n",
    "    interactive_time_series_barcode,\n",
    "    start=(0, 900),\n",
    "    size=fixed(100)\n",
    ")\n",
    "\n",
    "plt.plot(time_series, color=\"purple\")\n",
    "plt.show()\n",
    "\n",
    "w"
   ]
  }
 ],
 "metadata": {
  "kernelspec": {
   "display_name": ".venv",
   "language": "python",
   "name": "python3"
  },
  "language_info": {
   "codemirror_mode": {
    "name": "ipython",
    "version": 3
   },
   "file_extension": ".py",
   "mimetype": "text/x-python",
   "name": "python",
   "nbconvert_exporter": "python",
   "pygments_lexer": "ipython3",
   "version": "3.12.1"
  }
 },
 "nbformat": 4,
 "nbformat_minor": 2
}
